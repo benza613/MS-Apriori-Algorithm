{
  "nbformat": 4,
  "nbformat_minor": 0,
  "metadata": {
    "colab": {
      "name": "DMTM-MSApriori.ipynb",
      "provenance": [],
      "collapsed_sections": [],
      "include_colab_link": true
    },
    "kernelspec": {
      "name": "python3",
      "display_name": "Python 3"
    }
  },
  "cells": [
    {
      "cell_type": "markdown",
      "metadata": {
        "id": "view-in-github",
        "colab_type": "text"
      },
      "source": [
        "<a href=\"https://colab.research.google.com/github/benza613/MS-Apriori-Algorithm/blob/master/DMTM_MSApriori.ipynb\" target=\"_parent\"><img src=\"https://colab.research.google.com/assets/colab-badge.svg\" alt=\"Open In Colab\"/></a>"
      ]
    },
    {
      "cell_type": "code",
      "metadata": {
        "id": "TSvbxqDw9SXm",
        "outputId": "14dca7fd-ab19-457c-cc2b-336567e61663",
        "colab": {
          "base_uri": "https://localhost:8080/",
          "height": 35
        }
      },
      "source": [
        "from google.colab import drive\n",
        "drive.mount('/content/drive')"
      ],
      "execution_count": 5,
      "outputs": [
        {
          "output_type": "stream",
          "text": [
            "Drive already mounted at /content/drive; to attempt to forcibly remount, call drive.mount(\"/content/drive\", force_remount=True).\n"
          ],
          "name": "stdout"
        }
      ]
    },
    {
      "cell_type": "code",
      "metadata": {
        "id": "L5zglxiZ9cEF",
        "outputId": "a32bc02d-4225-43cc-e32b-f89f1a675ef2",
        "colab": {
          "base_uri": "https://localhost:8080/",
          "height": 35
        }
      },
      "source": [
        "# set working directory -> you must set the path into which you have uploaded the zipped file\n",
        "# this is required in the case of colab - not in local mode\n",
        "%cd /content/drive/My Drive/DMTM"
      ],
      "execution_count": 6,
      "outputs": [
        {
          "output_type": "stream",
          "text": [
            "/content/drive/My Drive/DMTM\n"
          ],
          "name": "stdout"
        }
      ]
    },
    {
      "cell_type": "code",
      "metadata": {
        "id": "GysQTZsq9kym",
        "outputId": "53aeb7f4-dbc4-4028-c21a-1388de442419",
        "colab": {
          "base_uri": "https://localhost:8080/",
          "height": 54
        }
      },
      "source": [
        "# list content of drive\n",
        "%ls"
      ],
      "execution_count": 8,
      "outputs": [
        {
          "output_type": "stream",
          "text": [
            "\u001b[0m\u001b[01;34massignments-1-2-3-testData\u001b[0m/  IG_Sample1.txt  TestParameter.txt\n",
            "CL_EVAL_sample1.txt          IG_Sample2.txt  TestTransaction.txt\n"
          ],
          "name": "stdout"
        }
      ]
    },
    {
      "cell_type": "code",
      "metadata": {
        "id": "kch8uVtg9lik",
        "outputId": "4e638f75-1f0c-495a-c1f2-327170d1f141",
        "colab": {
          "base_uri": "https://localhost:8080/",
          "height": 384
        }
      },
      "source": [
        "# READ Transaction File \n",
        "transactions = []\n",
        "\n",
        "fileData = open('assignments-1-2-3-testData/assign-1-testData/data-1/data-1.txt', \"r+\", encoding='utf-8-sig').readlines()\n",
        "#fileData = open('assignments-1-2-3-testData/assign-1-testData/data-2/data-2.txt', \"r+\", encoding='utf-8-sig').readlines()\n",
        "  \n",
        "# remove all whitespaces, all newline chars, trailing commas that have no input after it\n",
        "arrTransact = [line.replace(\" \", \"\").rstrip(\"\\n\").rstrip(\",\") for line in fileData]\n",
        "\n",
        "transactions = [list(map(int, line.split(\",\"))) for line in arrTransact]\n",
        "\n",
        "transactions"
      ],
      "execution_count": 139,
      "outputs": [
        {
          "output_type": "execute_result",
          "data": {
            "text/plain": [
              "[[5, 8],\n",
              " [1, 2, 3, 6],\n",
              " [7, 9],\n",
              " [2, 4, 6],\n",
              " [1, 2, 3, 6, 7],\n",
              " [5],\n",
              " [8, 7],\n",
              " [9],\n",
              " [9],\n",
              " [8, 9, 7],\n",
              " [2, 5],\n",
              " [1, 4, 6, 7, 9],\n",
              " [7],\n",
              " [5, 9, 7],\n",
              " [5],\n",
              " [1, 8, 7, 9],\n",
              " [7, 9],\n",
              " [5, 9],\n",
              " [1, 2, 3, 6, 7],\n",
              " [7, 9]]"
            ]
          },
          "metadata": {
            "tags": []
          },
          "execution_count": 139
        }
      ]
    },
    {
      "cell_type": "code",
      "metadata": {
        "id": "1b7EC67U-g8q",
        "outputId": "a1c43546-ae09-4391-8763-be1c387fcec3",
        "colab": {
          "base_uri": "https://localhost:8080/",
          "height": 182
        }
      },
      "source": [
        "# READ Parameter file \n",
        "MIS= {}\n",
        "SDC= 0 \n",
        "\n",
        "mis_rest_val = 0.0\n",
        "\n",
        "fileData = open('assignments-1-2-3-testData/assign-1-testData/data-1/para-1.txt', \"r+\", encoding='utf-8-sig').readlines()\n",
        "#fileData = open('assignments-1-2-3-testData/assign-1-testData/data-2/para-2.txt', \"r+\", encoding='utf-8-sig').readlines()\n",
        "arrParams = [line.replace(\" \", \"\").rstrip(\"\\n\") for line in fileData]\n",
        "\n",
        "# now we must read exactly-> MIS(n)=<float_value> and MIS(rest)=<float_value> and SDC=<float_value>\n",
        "for param in arrParams:\n",
        "    if param.find(\"MIS\") > -1:\n",
        "        # get indices\n",
        "        key_start_idx = param.find(\"(\")\n",
        "        key_end_idx = param.find(\")\")\n",
        "        val_start_idx = param.find(\"=\")\n",
        "        \n",
        "        # extract & record dict keys and vals \n",
        "        key = param[key_start_idx + 1 : key_end_idx]\n",
        "        val = float((param[val_start_idx + 1 :]))\n",
        "        \n",
        "        if key != 'rest':\n",
        "            MIS[int(key)] = val\n",
        "        else:\n",
        "            # if REST -> we have to add this value for keys not in dict already later on \n",
        "            mis_rest_val = val\n",
        "                    \n",
        "\n",
        "    if param.find(\"SDC=\") > -1:\n",
        "        SDC = param[param.find(\"=\") + 1 :]\n",
        "\n",
        "        # assert if float works\n",
        "        try:\n",
        "            SDC = float(SDC)\n",
        "        except ValueError:\n",
        "            raise Exception(\"Error converting SDC value\")\n",
        "\n",
        "# now populate mis dict with pending item values using mis_rest_val\n",
        "for t in transactions:\n",
        "  for item in t:\n",
        "    if item not in MIS.keys():\n",
        "      MIS[int(item)] = mis_rest_val\n",
        "\n",
        "MIS"
      ],
      "execution_count": 140,
      "outputs": [
        {
          "output_type": "execute_result",
          "data": {
            "text/plain": [
              "{1: 0.28,\n",
              " 2: 0.2,\n",
              " 3: 0.12,\n",
              " 4: 0.14,\n",
              " 5: 0.27,\n",
              " 6: 0.27,\n",
              " 7: 0.27,\n",
              " 8: 0.27,\n",
              " 9: 0.27}"
            ]
          },
          "metadata": {
            "tags": []
          },
          "execution_count": 140
        }
      ]
    },
    {
      "cell_type": "code",
      "metadata": {
        "id": "Yv-TNLZqXpBm",
        "outputId": "436fcf6f-171e-4d81-f368-b5bcaa6188e3",
        "colab": {
          "base_uri": "https://localhost:8080/",
          "height": 35
        }
      },
      "source": [
        "SDC"
      ],
      "execution_count": 141,
      "outputs": [
        {
          "output_type": "execute_result",
          "data": {
            "text/plain": [
              "0.25"
            ]
          },
          "metadata": {
            "tags": []
          },
          "execution_count": 141
        }
      ]
    },
    {
      "cell_type": "code",
      "metadata": {
        "id": "VWCB-y98AZNi",
        "outputId": "3c1b804f-0b48-4a2c-ea63-8bc9bb40a5b3",
        "colab": {
          "base_uri": "https://localhost:8080/",
          "height": 384
        }
      },
      "source": [
        "# Calculate M <- sort(I, MS) \n",
        "# where I == itemset in each transaction record\n",
        "M = []\n",
        "\n",
        "for t in transactions:\n",
        "  t.sort()\n",
        "  tmpD = []\n",
        "  for item in t:\n",
        "    tmpD.append((item,MIS[item]))\n",
        "\n",
        "  tmpD.sort(key=lambda tup: tup[1])  # sorts in place\n",
        "  M.append(tmpD)\n",
        "  # sort tmpD based on tuple values\n",
        "    \n",
        "M"
      ],
      "execution_count": 142,
      "outputs": [
        {
          "output_type": "execute_result",
          "data": {
            "text/plain": [
              "[[(5, 0.27), (8, 0.27)],\n",
              " [(3, 0.12), (2, 0.2), (6, 0.27), (1, 0.28)],\n",
              " [(7, 0.27), (9, 0.27)],\n",
              " [(4, 0.14), (2, 0.2), (6, 0.27)],\n",
              " [(3, 0.12), (2, 0.2), (6, 0.27), (7, 0.27), (1, 0.28)],\n",
              " [(5, 0.27)],\n",
              " [(7, 0.27), (8, 0.27)],\n",
              " [(9, 0.27)],\n",
              " [(9, 0.27)],\n",
              " [(7, 0.27), (8, 0.27), (9, 0.27)],\n",
              " [(2, 0.2), (5, 0.27)],\n",
              " [(4, 0.14), (6, 0.27), (7, 0.27), (9, 0.27), (1, 0.28)],\n",
              " [(7, 0.27)],\n",
              " [(5, 0.27), (7, 0.27), (9, 0.27)],\n",
              " [(5, 0.27)],\n",
              " [(7, 0.27), (8, 0.27), (9, 0.27), (1, 0.28)],\n",
              " [(7, 0.27), (9, 0.27)],\n",
              " [(5, 0.27), (9, 0.27)],\n",
              " [(3, 0.12), (2, 0.2), (6, 0.27), (7, 0.27), (1, 0.28)],\n",
              " [(7, 0.27), (9, 0.27)]]"
            ]
          },
          "metadata": {
            "tags": []
          },
          "execution_count": 142
        }
      ]
    },
    {
      "cell_type": "code",
      "metadata": {
        "id": "Mu9RhpmvDc1b",
        "outputId": "3692d8e4-7cac-4927-a790-5bc133226357",
        "colab": {
          "base_uri": "https://localhost:8080/",
          "height": 182
        }
      },
      "source": [
        "import operator\n",
        "\n",
        "# Calc L <- init-pass(M, T)\n",
        "# basically counts of 1-itemsets in each transaction \n",
        "L = {}\n",
        "\n",
        "# order indexer \n",
        "order = 0\n",
        "\n",
        "for t in M:\n",
        "  for tpl_item in t:\n",
        "    item = tpl_item[0]\n",
        "    item_mis = tpl_item[1]\n",
        "\n",
        "    if item not in L.keys():\n",
        "      L[item] = {\n",
        "          'mis': item_mis,\n",
        "          'count': 1,\n",
        "          'order': order\n",
        "      }\n",
        "\n",
        "      order += 1\n",
        "    else:\n",
        "      L[item]['count'] += 1 \n",
        "\n",
        "L"
      ],
      "execution_count": 143,
      "outputs": [
        {
          "output_type": "execute_result",
          "data": {
            "text/plain": [
              "{1: {'count': 5, 'mis': 0.28, 'order': 5},\n",
              " 2: {'count': 5, 'mis': 0.2, 'order': 3},\n",
              " 3: {'count': 3, 'mis': 0.12, 'order': 2},\n",
              " 4: {'count': 2, 'mis': 0.14, 'order': 8},\n",
              " 5: {'count': 6, 'mis': 0.27, 'order': 0},\n",
              " 6: {'count': 5, 'mis': 0.27, 'order': 4},\n",
              " 7: {'count': 11, 'mis': 0.27, 'order': 6},\n",
              " 8: {'count': 4, 'mis': 0.27, 'order': 1},\n",
              " 9: {'count': 10, 'mis': 0.27, 'order': 7}}"
            ]
          },
          "metadata": {
            "tags": []
          },
          "execution_count": 143
        }
      ]
    },
    {
      "cell_type": "code",
      "metadata": {
        "id": "02PjHDhSFOhY",
        "outputId": "29207d99-77d4-4eb4-8795-4d3a0f14ba31",
        "colab": {
          "base_uri": "https://localhost:8080/",
          "height": 35
        }
      },
      "source": [
        "# calculate F1 ==> Frequent itemsets of size 1\n",
        "n = len(transactions)\n",
        "\n",
        "F = {}\n",
        "F['1'] = {}\n",
        "F['1']['items'] = []\n",
        "\n",
        "for i in L:\n",
        "  if ( L[i]['count'] / n ) >= L[i]['mis'] :\n",
        "    F['1']['items'].append(i)\n",
        "\n",
        "F"
      ],
      "execution_count": 144,
      "outputs": [
        {
          "output_type": "execute_result",
          "data": {
            "text/plain": [
              "{'1': {'items': [5, 3, 2, 7, 9]}}"
            ]
          },
          "metadata": {
            "tags": []
          },
          "execution_count": 144
        }
      ]
    },
    {
      "cell_type": "code",
      "metadata": {
        "id": "KufmbtvsqnB9",
        "cellView": "code"
      },
      "source": [
        "import itertools \n",
        "\n",
        "def fn_Sup(val):\n",
        "  return val/n \n",
        "\n",
        "def level2_candidate_gen(L, SDC):\n",
        "  print('level2_candidate_gen')\n",
        "  C2 = []\n",
        "\n",
        "  for i in sorted(L, key = lambda name: L[name]['order']):\n",
        "\n",
        "    if ( L[i]['count'] / n ) >= L[i]['mis'] :\n",
        "      for h in sorted(L, key = lambda name: L[name]['order']):\n",
        "\n",
        "        if L[h]['order'] != L[i]['order']:\n",
        "          sdc_diff = fn_Sup(L[h]['count']) -  fn_Sup(L[i]['count'])\n",
        "          \n",
        "          if ( (L[h]['count']/n) >= L[i]['mis'] ) and ( abs(sdc_diff) <= SDC ) :\n",
        "\n",
        "            # check if a different combination has not been inserted \n",
        "            match_found = False\n",
        "            for c in C2:\n",
        "              if set(c['items']) == set([i,h]):\n",
        "                match_found = True\n",
        "\n",
        "            if match_found == False:\n",
        "              C2.append({'items': [i,h], 'counts': 0, 'tailcounts': 0})\n",
        "            \n",
        "  return C2\n",
        "\n",
        "\n",
        "def MScandidate_gen(Fk, SDC, k):\n",
        "  Ck = []\n",
        "\n",
        "  for f1 in Fk:\n",
        "    for f2 in Fk:\n",
        "      #local var\n",
        "      c =[]\n",
        "\n",
        "      # doing this step to match pseudo code in textbook\n",
        "      #f1['items'].sort()\n",
        "      #f2['items'].sort()\n",
        "\n",
        "      #print('f1 =>', f1['items'])\n",
        "      #print('f2 =>', f2['items'])\n",
        "\n",
        "      if set(f1['items'][:-1]) == set(f2['items'][:-1]):\n",
        "        ik = f1['items'][-1]\n",
        "        ik_dash = f2['items'][-1]\n",
        "        sdc_diff = fn_Sup(L[ik]['count']) -  fn_Sup(L[ik_dash]['count'])\n",
        "\n",
        "        #print('sdc',abs(sdc_diff) <= SDC)\n",
        "        if (ik < ik_dash) and ( abs(sdc_diff) <= SDC ):\n",
        "          c = f1['items']+f2['items'][-1:]\n",
        "          Ck.append({'items':c, 'counts': 0, 'tailcounts': 0})\n",
        "          \n",
        "          \n",
        "          for s in list(itertools.combinations(c, k)):\n",
        "            if set([c[0]]).issubset(s) or ( L[c[0]]['mis'] ==  L[c[1]]['mis'] ) : \n",
        "              is_subset = False\n",
        "              for f in Fk:\n",
        "                if set(s).issubset(f['items']): \n",
        "                  is_subset = True\n",
        "                  break;\n",
        "\n",
        "              if is_subset == False:\n",
        "                Ck.pop()\n",
        "                break\n",
        "\n",
        "  return Ck\n"
      ],
      "execution_count": 145,
      "outputs": []
    },
    {
      "cell_type": "code",
      "metadata": {
        "id": "D4f-pe4FHS-j",
        "outputId": "68983da0-3938-4f00-ccf9-9c44a536ba06",
        "colab": {
          "base_uri": "https://localhost:8080/",
          "height": 129
        }
      },
      "source": [
        "\n",
        "k = 2 \n",
        "\n",
        "C = {}\n",
        "\n",
        "# loop K until the end of freq itemset iteration doesnt return empty set \n",
        "while len(F[str(k-1)]) > 0:\n",
        "  if k == 2:\n",
        "    C[2] = level2_candidate_gen(L, SDC)\n",
        "  else:\n",
        "    C[k] = MScandidate_gen(F[str(k-1)], SDC, k-1)\n",
        "    #print(C[k])\n",
        "\n",
        "  for t in transactions:\n",
        "    for c in C[k]:\n",
        "      if set(c['items']).issubset(t):\n",
        "        c['counts'] += 1\n",
        "      if set(c['items'][1:]).issubset(t):\n",
        "        c['tailcounts'] += 1\n",
        "\n",
        "  print(C[k])\n",
        "  F[str(k)] = []\n",
        "  for c in C[k]:\n",
        "    if ( c['counts'] / n) >= L[c['items'][0]]['mis']:\n",
        "      F[str(k)].append(c)\n",
        "  \n",
        "  #print('F')\n",
        "  #print(F[str(k)])\n",
        "      \n",
        "  #print(k)\n",
        "  k+= 1\n",
        " \n",
        "\n",
        " "
      ],
      "execution_count": 146,
      "outputs": [
        {
          "output_type": "stream",
          "text": [
            "level2_candidate_gen\n",
            "[{'items': [5, 9], 'counts': 2, 'tailcounts': 10}, {'items': [3, 5], 'counts': 0, 'tailcounts': 6}, {'items': [3, 8], 'counts': 0, 'tailcounts': 4}, {'items': [3, 2], 'counts': 3, 'tailcounts': 5}, {'items': [3, 6], 'counts': 3, 'tailcounts': 5}, {'items': [3, 1], 'counts': 3, 'tailcounts': 5}, {'items': [2, 5], 'counts': 1, 'tailcounts': 6}, {'items': [2, 8], 'counts': 0, 'tailcounts': 4}, {'items': [2, 6], 'counts': 4, 'tailcounts': 5}, {'items': [2, 1], 'counts': 3, 'tailcounts': 5}, {'items': [2, 9], 'counts': 0, 'tailcounts': 10}, {'items': [7, 9], 'counts': 7, 'tailcounts': 10}]\n",
            "[{'items': [3, 2, 6], 'counts': 3, 'tailcounts': 4}, {'items': [3, 1, 2], 'counts': 3, 'tailcounts': 3}, {'items': [3, 1, 6], 'counts': 3, 'tailcounts': 4}]\n",
            "[{'items': [3, 1, 2, 6], 'counts': 3, 'tailcounts': 3}]\n",
            "[]\n"
          ],
          "name": "stdout"
        }
      ]
    },
    {
      "cell_type": "code",
      "metadata": {
        "id": "bl84py1imfxA",
        "outputId": "1c4bb6b1-6df4-47e3-f1f7-71314256935d",
        "colab": {
          "base_uri": "https://localhost:8080/",
          "height": 458
        }
      },
      "source": [
        "# HERE we will print this output for u for F\n",
        "STUDENT_ID = 'STUDENT_ID'\n",
        "\n",
        "result = '(' + STUDENT_ID + '\\n'\n",
        "for i in F: \n",
        "  if int(i) == 1:\n",
        "    if len( F[i]['items']) > 0:\n",
        "      lgth = len(F[i]['items'])\n",
        "      result += f'(Length-{i} { lgth } '\n",
        "      result += '\\n\\t('\n",
        "      result += ')\\n\\t('.join(map(str, F[i]['items']))\n",
        "      result += ')\\n'\n",
        "      result += ') \\n' # close length\n",
        "\n",
        "  else:\n",
        "    if len(F[i]) > 0:\n",
        "      result += f'(Length-{i} {len(F[i])}'\n",
        "\n",
        "      for pair in F[i]:\n",
        "        result += '\\n\\t('+ ' '.join(map(str, pair['items']))\n",
        "        result += ')'\n",
        "\n",
        "\n",
        "    # for pair in F[i]:\n",
        "    #   print(pair)\n",
        "      \n",
        "      result += '\\n) \\n)'\n",
        "print(result)\n",
        "\n"
      ],
      "execution_count": 151,
      "outputs": [
        {
          "output_type": "stream",
          "text": [
            "(STUDENT_ID\n",
            "(Length-1 5 \n",
            "\t(5)\n",
            "\t(3)\n",
            "\t(2)\n",
            "\t(7)\n",
            "\t(9)\n",
            ") \n",
            "(Length-2 5\n",
            "\t(3 2)\n",
            "\t(3 6)\n",
            "\t(3 1)\n",
            "\t(2 6)\n",
            "\t(7 9)\n",
            ") \n",
            ")(Length-3 3\n",
            "\t(3 2 6)\n",
            "\t(3 1 2)\n",
            "\t(3 1 6)\n",
            ") \n",
            ")(Length-4 1\n",
            "\t(3 1 2 6)\n",
            ") \n",
            ")\n"
          ],
          "name": "stdout"
        }
      ]
    },
    {
      "cell_type": "code",
      "metadata": {
        "id": "960BB80ExXoS"
      },
      "source": [
        "f = open('assignments-results/assign1/1_1_result.txt', \"w\")\n",
        "f.write(result)\n",
        "f.close()"
      ],
      "execution_count": 135,
      "outputs": []
    }
  ]
}