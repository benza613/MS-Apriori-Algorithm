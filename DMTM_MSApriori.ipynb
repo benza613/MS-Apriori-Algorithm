{
  "nbformat": 4,
  "nbformat_minor": 0,
  "metadata": {
    "colab": {
      "name": "DMTM-MSApriori.ipynb",
      "provenance": [],
      "collapsed_sections": []
    },
    "kernelspec": {
      "name": "python3",
      "display_name": "Python 3"
    }
  },
  "cells": [
    {
      "cell_type": "code",
      "metadata": {
        "id": "TSvbxqDw9SXm",
        "outputId": "a86ed2c0-2ef7-4b68-dec1-eb44b2e1c99e",
        "colab": {
          "base_uri": "https://localhost:8080/",
          "height": 35
        }
      },
      "source": [
        "from google.colab import drive\n",
        "drive.mount('/content/drive')"
      ],
      "execution_count": 1,
      "outputs": [
        {
          "output_type": "stream",
          "text": [
            "Mounted at /content/drive\n"
          ],
          "name": "stdout"
        }
      ]
    },
    {
      "cell_type": "code",
      "metadata": {
        "id": "L5zglxiZ9cEF",
        "outputId": "017371c3-537b-4d13-e320-e42f2d6b523d",
        "colab": {
          "base_uri": "https://localhost:8080/",
          "height": 35
        }
      },
      "source": [
        "# set working directory -> you must set the path into which you have uploaded the zipped file\n",
        "# this is required in the case of colab - not in local mode\n",
        "%cd /content/drive/My\\ Drive/DMTM"
      ],
      "execution_count": 3,
      "outputs": [
        {
          "output_type": "stream",
          "text": [
            "/content/drive/My Drive/DMTM\n"
          ],
          "name": "stdout"
        }
      ]
    },
    {
      "cell_type": "code",
      "metadata": {
        "id": "GysQTZsq9kym"
      },
      "source": [
        "# list content of drive\n",
        "%ls"
      ],
      "execution_count": 4,
      "outputs": []
    },
    {
      "cell_type": "code",
      "metadata": {
        "id": "kch8uVtg9lik",
        "outputId": "4a070f78-8bab-4a10-849b-32e188323417",
        "colab": {
          "base_uri": "https://localhost:8080/",
          "height": 35
        }
      },
      "source": [
        "# READ Transaction File \n",
        "transactions = []\n",
        "\n",
        "fileData = open('TestTransaction.txt', \"r+\").readlines()\n",
        "  \n",
        "# remove all whitespaces, all newline chars, trailing commas that have no input after it\n",
        "arrTransact = [line.replace(\" \", \"\").rstrip(\"\\n\").rstrip(\",\") for line in fileData]\n",
        "\n",
        "transactions = [list(map(int, line.split(\",\"))) for line in arrTransact]\n",
        "\n",
        "transactions"
      ],
      "execution_count": 9,
      "outputs": [
        {
          "output_type": "execute_result",
          "data": {
            "text/plain": [
              "[[10, 50, 30, 40], [1, 2, 4, 6, 8, 9, 10], [3, 4, 5], [7, 9, 20]]"
            ]
          },
          "metadata": {
            "tags": []
          },
          "execution_count": 9
        }
      ]
    },
    {
      "cell_type": "code",
      "metadata": {
        "id": "1b7EC67U-g8q",
        "outputId": "9a171e68-e876-4d7d-d9d8-96125a9d5d25",
        "colab": {
          "base_uri": "https://localhost:8080/",
          "height": 274
        }
      },
      "source": [
        "# READ Parameter file \n",
        "MIS= {}\n",
        "SDC= 0 \n",
        "\n",
        "mis_rest_val = 0.0\n",
        "\n",
        "fileData = open('TestParameter.txt', \"r+\").readlines()\n",
        "arrParams = [line.replace(\" \", \"\").rstrip(\"\\n\") for line in fileData]\n",
        "\n",
        "# now we must read exactly-> MIS(n)=<float_value> and MIS(rest)=<float_value> and SDC=<float_value>\n",
        "for param in arrParams:\n",
        "    if param.find(\"MIS\") > -1:\n",
        "        # get indices\n",
        "        key_start_idx = param.find(\"(\")\n",
        "        key_end_idx = param.find(\")\")\n",
        "        val_start_idx = param.find(\"=\")\n",
        "        \n",
        "        # extract & record dict keys and vals \n",
        "        key = param[key_start_idx + 1 : key_end_idx]\n",
        "        val = float((param[val_start_idx + 1 :]))\n",
        "        \n",
        "        if key != 'rest':\n",
        "            MIS[int(key)] = val\n",
        "        else:\n",
        "            # if REST -> we have to add this value for keys not in dict already later on \n",
        "            mis_rest_val = val\n",
        "                    \n",
        "\n",
        "    if param.find(\"SDC=\") > -1:\n",
        "        SDC = param[param.find(\"=\") + 1 :]\n",
        "\n",
        "        # assert if float works\n",
        "        try:\n",
        "            SDC = float(SDC)\n",
        "        except ValueError:\n",
        "            raise Exception(\"Error converting SDC value\")\n",
        "\n",
        "# now populate mis dict with pending item values using mis_rest_val\n",
        "for t in transactions:\n",
        "  for item in t:\n",
        "    if item not in MIS.keys():\n",
        "      MIS[int(item)] = mis_rest_val\n",
        "\n",
        "MIS"
      ],
      "execution_count": 19,
      "outputs": [
        {
          "output_type": "execute_result",
          "data": {
            "text/plain": [
              "{1: 0.02,\n",
              " 2: 0.04,\n",
              " 3: 0.01,\n",
              " 4: 0.01,\n",
              " 5: 0.01,\n",
              " 6: 0.01,\n",
              " 7: 0.04,\n",
              " 8: 0.01,\n",
              " 9: 0.01,\n",
              " 10: 0.01,\n",
              " 20: 0.01,\n",
              " 30: 0.01,\n",
              " 40: 0.01,\n",
              " 50: 0.01}"
            ]
          },
          "metadata": {
            "tags": []
          },
          "execution_count": 19
        }
      ]
    },
    {
      "cell_type": "code",
      "metadata": {
        "id": "VWCB-y98AZNi",
        "outputId": "a0a31e50-04e6-4b36-d642-754fe7737adf",
        "colab": {
          "base_uri": "https://localhost:8080/",
          "height": 201
        }
      },
      "source": [
        "# Calculate M <- sort(I, MS) \n",
        "# where I == itemset in each transaction record\n",
        "M = []\n",
        "\n",
        "for t in transactions:\n",
        "  t.sort()\n",
        "  tmpD = []\n",
        "  for item in t:\n",
        "    tmpD.append((item,MIS[item]))\n",
        "\n",
        "  tmpD.sort(key=lambda tup: tup[1])  # sorts in place\n",
        "  M.append(tmpD)\n",
        "  # sort tmpD based on tuple values\n",
        "    \n",
        "M"
      ],
      "execution_count": 27,
      "outputs": [
        {
          "output_type": "execute_result",
          "data": {
            "text/plain": [
              "[[(10, 0.01), (30, 0.01), (40, 0.01), (50, 0.01)],\n",
              " [(4, 0.01),\n",
              "  (6, 0.01),\n",
              "  (8, 0.01),\n",
              "  (9, 0.01),\n",
              "  (10, 0.01),\n",
              "  (1, 0.02),\n",
              "  (2, 0.04)],\n",
              " [(3, 0.01), (4, 0.01), (5, 0.01)],\n",
              " [(9, 0.01), (20, 0.01), (7, 0.04)]]"
            ]
          },
          "metadata": {
            "tags": []
          },
          "execution_count": 27
        }
      ]
    },
    {
      "cell_type": "code",
      "metadata": {
        "id": "Mu9RhpmvDc1b",
        "outputId": "daf028b7-d5c3-40ff-bb1f-17f5bf883104",
        "colab": {
          "base_uri": "https://localhost:8080/",
          "height": 274
        }
      },
      "source": [
        "import operator\n",
        "\n",
        "# Calc L <- init-pass(M, T)\n",
        "# basically counts of 1-itemsets in each transaction \n",
        "L = {}\n",
        "\n",
        "# order indexer \n",
        "order = 1\n",
        "\n",
        "for t in M:\n",
        "  for tpl_item in t:\n",
        "    item = tpl_item[0]\n",
        "    item_mis = tpl_item[1]\n",
        "\n",
        "    if item not in L.keys():\n",
        "      L[item] = {\n",
        "          'mis': item_mis,\n",
        "          'count': 1,\n",
        "          'order': order\n",
        "      }\n",
        "\n",
        "      order += 1\n",
        "    else:\n",
        "      L[item]['count'] += 1 \n",
        "\n"
      ],
      "execution_count": 57,
      "outputs": [
        {
          "output_type": "stream",
          "text": [
            "10\n",
            "30\n",
            "40\n",
            "50\n",
            "4\n",
            "6\n",
            "8\n",
            "9\n",
            "1\n",
            "2\n",
            "3\n",
            "5\n",
            "20\n",
            "7\n"
          ],
          "name": "stdout"
        }
      ]
    },
    {
      "cell_type": "code",
      "metadata": {
        "id": "DJGkgkp3LAmS"
      },
      "source": [
        "# now sort L_fast_retrieve into L in the order they are seen in M \n",
        "for t in M: \n",
        "  for tpl_item in t:\n",
        "    item = tpl_item[0]\n",
        "\n",
        "    if item"
      ],
      "execution_count": null,
      "outputs": []
    },
    {
      "cell_type": "code",
      "metadata": {
        "id": "02PjHDhSFOhY",
        "outputId": "71b7c505-b532-41ee-8633-047a5dcae8dc",
        "colab": {
          "base_uri": "https://localhost:8080/",
          "height": 35
        }
      },
      "source": [
        "# calculate F1 ==> Frequent itemsets of size 1\n",
        "n = len(transactions)\n",
        "\n",
        "F = {}\n",
        "F['1'] = []\n",
        "\n",
        "for i in L:\n",
        "  if ( L[i]['count'] / n ) >= L[i]['mis'] :\n",
        "    F['1'].append(i)\n",
        "\n",
        "F"
      ],
      "execution_count": 38,
      "outputs": [
        {
          "output_type": "execute_result",
          "data": {
            "text/plain": [
              "{'1': [10, 30, 40, 50, 4, 6, 8, 9, 1, 2, 3, 5, 20, 7]}"
            ]
          },
          "metadata": {
            "tags": []
          },
          "execution_count": 38
        }
      ]
    },
    {
      "cell_type": "code",
      "metadata": {
        "id": "D4f-pe4FHS-j",
        "outputId": "e5b214db-a9fb-4d6b-b282-d00e6710c816",
        "colab": {
          "base_uri": "https://localhost:8080/",
          "height": 74
        }
      },
      "source": [
        "k = 2 \n",
        "\n",
        "C = {}\n",
        "\n",
        "# loop K until the end of freq itemset iteration doesnt return empty set \n",
        "# while len(F[str(k-1)]) > 0:\n",
        "#   if k == 2:\n",
        "#     C['2'] = level2_candidate_gen(L, SDC)\n",
        "#   else \n",
        "#     C[str(k)] = MScandidate_gen(F[str(k-1)], SDC)\n",
        "C['2'] = level2_candidate_gen(L, SDC)\n",
        "\n",
        "\n",
        "\n"
      ],
      "execution_count": 68,
      "outputs": [
        {
          "output_type": "stream",
          "text": [
            "here\n",
            "[(10, 4), (10, 9), (30, 40), (30, 50), (30, 6), (30, 8), (30, 1), (30, 2), (30, 3), (30, 5), (30, 20), (30, 7), (40, 50), (40, 6), (40, 8), (40, 1), (40, 2), (40, 3), (40, 5), (40, 20), (40, 7), (50, 6), (50, 8), (50, 1), (50, 2), (50, 3), (50, 5), (50, 20), (50, 7), (4, 9), (6, 8), (6, 1), (6, 2), (6, 3), (6, 5), (6, 20), (6, 7), (8, 1), (8, 2), (8, 3), (8, 5), (8, 20), (8, 7), (1, 2), (1, 3), (1, 5), (1, 20), (1, 7), (2, 3), (2, 5), (2, 20), (2, 7), (3, 5), (3, 20), (3, 7), (5, 20), (5, 7), (20, 7)]\n"
          ],
          "name": "stdout"
        }
      ]
    },
    {
      "cell_type": "code",
      "metadata": {
        "id": "-jmUk5JeISr5"
      },
      "source": [
        "def fn_Sup(val):\n",
        "  return val/n \n",
        "\n",
        "def level2_candidate_gen(L, SDC):\n",
        "  print('here')\n",
        "  C2 = []\n",
        "\n",
        "  for i in sorted(L, key = lambda name: L[name]['order']):\n",
        "\n",
        "    if ( L[i]['count'] / n ) >= L[i]['mis'] :\n",
        "      for h in sorted(L, key = lambda name: L[name]['order']):\n",
        "\n",
        "        if L[h]['order'] > L[i]['order']:\n",
        "          sdc_diff = fn_Sup(L[h]['count']) -  fn_Sup(L[i]['count'])\n",
        "          \n",
        "          if ( (L[h]['count']/n) >= L[i]['mis'] ) and ( abs(sdc_diff) <= SDC ) :\n",
        "            C2.append((i,h))\n",
        "            \n",
        "  return C2\n",
        "\n",
        "\n"
      ],
      "execution_count": 66,
      "outputs": []
    }
  ]
}