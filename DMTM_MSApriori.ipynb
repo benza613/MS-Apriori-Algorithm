{
  "nbformat": 4,
  "nbformat_minor": 0,
  "metadata": {
    "colab": {
      "name": "DMTM-MSApriori.ipynb",
      "provenance": [],
      "collapsed_sections": []
    },
    "kernelspec": {
      "name": "python3",
      "display_name": "Python 3"
    }
  },
  "cells": [
    {
      "cell_type": "code",
      "metadata": {
        "id": "TSvbxqDw9SXm",
        "outputId": "f59ba5ae-3da5-4f32-aadb-9cdbcc37e418",
        "colab": {
          "base_uri": "https://localhost:8080/",
          "height": 35
        }
      },
      "source": [
        "from google.colab import drive\n",
        "drive.mount('/content/drive')"
      ],
      "execution_count": null,
      "outputs": [
        {
          "output_type": "stream",
          "text": [
            "Mounted at /content/drive\n"
          ],
          "name": "stdout"
        }
      ]
    },
    {
      "cell_type": "code",
      "metadata": {
        "id": "L5zglxiZ9cEF",
        "outputId": "fc4b9fdc-fd9b-4c24-b492-c54b9273e210",
        "colab": {
          "base_uri": "https://localhost:8080/",
          "height": 35
        }
      },
      "source": [
        "# set working directory -> you must set the path into which you have uploaded the zipped file\n",
        "# this is required in the case of colab - not in local mode\n",
        "%cd /content/drive/My\\ Drive/DMTM"
      ],
      "execution_count": null,
      "outputs": [
        {
          "output_type": "stream",
          "text": [
            "/content/drive/My Drive/DMTM\n"
          ],
          "name": "stdout"
        }
      ]
    },
    {
      "cell_type": "code",
      "metadata": {
        "id": "GysQTZsq9kym",
        "outputId": "d13b787a-643f-4883-8ea6-9dfc4827b46a",
        "colab": {
          "base_uri": "https://localhost:8080/",
          "height": 35
        }
      },
      "source": [
        "# list content of drive\n",
        "%ls"
      ],
      "execution_count": null,
      "outputs": [
        {
          "output_type": "stream",
          "text": [
            "TestParameter.txt  TestTransaction.txt\n"
          ],
          "name": "stdout"
        }
      ]
    },
    {
      "cell_type": "code",
      "metadata": {
        "id": "kch8uVtg9lik",
        "outputId": "b04148f4-2dbd-44fa-c148-2f7b7e24e7fc",
        "colab": {
          "base_uri": "https://localhost:8080/",
          "height": 35
        }
      },
      "source": [
        "# READ Transaction File \n",
        "transactions = []\n",
        "\n",
        "fileData = open('TestTransaction.txt', \"r+\").readlines()\n",
        "  \n",
        "# remove all whitespaces, all newline chars, trailing commas that have no input after it\n",
        "arrTransact = [line.replace(\" \", \"\").rstrip(\"\\n\").rstrip(\",\") for line in fileData]\n",
        "\n",
        "transactions = [list(map(int, line.split(\",\"))) for line in arrTransact]\n",
        "\n",
        "transactions"
      ],
      "execution_count": null,
      "outputs": [
        {
          "output_type": "execute_result",
          "data": {
            "text/plain": [
              "[[10, 50, 30, 40], [1, 2, 4, 6, 8, 9, 10], [3, 4, 5], [7, 9, 20]]"
            ]
          },
          "metadata": {
            "tags": []
          },
          "execution_count": 4
        }
      ]
    },
    {
      "cell_type": "code",
      "metadata": {
        "id": "1b7EC67U-g8q",
        "outputId": "f453aeee-0f50-4981-8294-ed6fe7c8d74b",
        "colab": {
          "base_uri": "https://localhost:8080/",
          "height": 274
        }
      },
      "source": [
        "# READ Parameter file \n",
        "MIS= {}\n",
        "SDC= 0 \n",
        "\n",
        "mis_rest_val = 0.0\n",
        "\n",
        "fileData = open('TestParameter.txt', \"r+\").readlines()\n",
        "arrParams = [line.replace(\" \", \"\").rstrip(\"\\n\") for line in fileData]\n",
        "\n",
        "# now we must read exactly-> MIS(n)=<float_value> and MIS(rest)=<float_value> and SDC=<float_value>\n",
        "for param in arrParams:\n",
        "    if param.find(\"MIS\") > -1:\n",
        "        # get indices\n",
        "        key_start_idx = param.find(\"(\")\n",
        "        key_end_idx = param.find(\")\")\n",
        "        val_start_idx = param.find(\"=\")\n",
        "        \n",
        "        # extract & record dict keys and vals \n",
        "        key = param[key_start_idx + 1 : key_end_idx]\n",
        "        val = float((param[val_start_idx + 1 :]))\n",
        "        \n",
        "        if key != 'rest':\n",
        "            MIS[int(key)] = val\n",
        "        else:\n",
        "            # if REST -> we have to add this value for keys not in dict already later on \n",
        "            mis_rest_val = val\n",
        "                    \n",
        "\n",
        "    if param.find(\"SDC=\") > -1:\n",
        "        SDC = param[param.find(\"=\") + 1 :]\n",
        "\n",
        "        # assert if float works\n",
        "        try:\n",
        "            SDC = float(SDC)\n",
        "        except ValueError:\n",
        "            raise Exception(\"Error converting SDC value\")\n",
        "\n",
        "# now populate mis dict with pending item values using mis_rest_val\n",
        "for t in transactions:\n",
        "  for item in t:\n",
        "    if item not in MIS.keys():\n",
        "      MIS[int(item)] = mis_rest_val\n",
        "\n",
        "MIS"
      ],
      "execution_count": null,
      "outputs": [
        {
          "output_type": "execute_result",
          "data": {
            "text/plain": [
              "{1: 0.02,\n",
              " 2: 0.04,\n",
              " 3: 0.01,\n",
              " 4: 0.01,\n",
              " 5: 0.01,\n",
              " 6: 0.01,\n",
              " 7: 0.04,\n",
              " 8: 0.01,\n",
              " 9: 0.01,\n",
              " 10: 0.01,\n",
              " 20: 0.01,\n",
              " 30: 0.01,\n",
              " 40: 0.01,\n",
              " 50: 0.01}"
            ]
          },
          "metadata": {
            "tags": []
          },
          "execution_count": 5
        }
      ]
    },
    {
      "cell_type": "code",
      "metadata": {
        "id": "VWCB-y98AZNi",
        "outputId": "63188f6a-0c77-462a-ff5d-38a0fc75da51",
        "colab": {
          "base_uri": "https://localhost:8080/",
          "height": 201
        }
      },
      "source": [
        "# Calculate M <- sort(I, MS) \n",
        "# where I == itemset in each transaction record\n",
        "M = []\n",
        "\n",
        "for t in transactions:\n",
        "  t.sort()\n",
        "  tmpD = []\n",
        "  for item in t:\n",
        "    tmpD.append((item,MIS[item]))\n",
        "\n",
        "  tmpD.sort(key=lambda tup: tup[1])  # sorts in place\n",
        "  M.append(tmpD)\n",
        "  # sort tmpD based on tuple values\n",
        "    \n",
        "M"
      ],
      "execution_count": null,
      "outputs": [
        {
          "output_type": "execute_result",
          "data": {
            "text/plain": [
              "[[(10, 0.01), (30, 0.01), (40, 0.01), (50, 0.01)],\n",
              " [(4, 0.01),\n",
              "  (6, 0.01),\n",
              "  (8, 0.01),\n",
              "  (9, 0.01),\n",
              "  (10, 0.01),\n",
              "  (1, 0.02),\n",
              "  (2, 0.04)],\n",
              " [(3, 0.01), (4, 0.01), (5, 0.01)],\n",
              " [(9, 0.01), (20, 0.01), (7, 0.04)]]"
            ]
          },
          "metadata": {
            "tags": []
          },
          "execution_count": 136
        }
      ]
    },
    {
      "cell_type": "code",
      "metadata": {
        "id": "Mu9RhpmvDc1b"
      },
      "source": [
        "import operator\n",
        "\n",
        "# Calc L <- init-pass(M, T)\n",
        "# basically counts of 1-itemsets in each transaction \n",
        "L = {}\n",
        "\n",
        "# order indexer \n",
        "order = 1\n",
        "\n",
        "for t in M:\n",
        "  for tpl_item in t:\n",
        "    item = tpl_item[0]\n",
        "    item_mis = tpl_item[1]\n",
        "\n",
        "    if item not in L.keys():\n",
        "      L[item] = {\n",
        "          'mis': item_mis,\n",
        "          'count': 1,\n",
        "          'order': order\n",
        "      }\n",
        "\n",
        "      order += 1\n",
        "    else:\n",
        "      L[item]['count'] += 1 \n",
        "\n"
      ],
      "execution_count": null,
      "outputs": []
    },
    {
      "cell_type": "code",
      "metadata": {
        "id": "02PjHDhSFOhY",
        "outputId": "ecb42d1b-a055-4b88-84ca-b33bb38de768",
        "colab": {
          "base_uri": "https://localhost:8080/",
          "height": 35
        }
      },
      "source": [
        "# calculate F1 ==> Frequent itemsets of size 1\n",
        "n = len(transactions)\n",
        "\n",
        "F = {}\n",
        "F['1'] = {}\n",
        "F['1']['items'] = []\n",
        "\n",
        "for i in L:\n",
        "  if ( L[i]['count'] / n ) >= L[i]['mis'] :\n",
        "    F['1']['items'].append(i)\n",
        "\n",
        "F"
      ],
      "execution_count": null,
      "outputs": [
        {
          "output_type": "execute_result",
          "data": {
            "text/plain": [
              "{'1': {'items': [10, 30, 40, 50, 4, 6, 8, 9, 1, 2, 3, 5, 20, 7]}}"
            ]
          },
          "metadata": {
            "tags": []
          },
          "execution_count": 199
        }
      ]
    },
    {
      "cell_type": "code",
      "metadata": {
        "id": "-jmUk5JeISr5"
      },
      "source": [
        "import itertools \n",
        "\n",
        "def fn_Sup(val):\n",
        "  return val/n \n",
        "\n",
        "def level2_candidate_gen(L, SDC):\n",
        "  print('here')\n",
        "  C2 = []\n",
        "\n",
        "  for i in sorted(L, key = lambda name: L[name]['order']):\n",
        "\n",
        "    if ( L[i]['count'] / n ) >= L[i]['mis'] :\n",
        "      for h in sorted(L, key = lambda name: L[name]['order']):\n",
        "\n",
        "        if L[h]['order'] > L[i]['order']:\n",
        "          sdc_diff = fn_Sup(L[h]['count']) -  fn_Sup(L[i]['count'])\n",
        "          \n",
        "          if ( (L[h]['count']/n) >= L[i]['mis'] ) and ( abs(sdc_diff) <= SDC ) :\n",
        "            C2.append({'items': [i,h], 'counts': 0, 'tailcounts': 0})\n",
        "            \n",
        "  return C2\n",
        "\n",
        "\n",
        "def MScandidate_gen(Fk, SDC, k):\n",
        "  Ck = []\n",
        "\n",
        "  for f1 in Fk:\n",
        "    for f2 in Fk:\n",
        "      #local var\n",
        "      c =[]\n",
        "\n",
        "      # doing this step to match pseudo code in textbook\n",
        "      f1['items'].sort()\n",
        "      f2['items'].sort()\n",
        "\n",
        "      #print('f1 =>', f1['items'])\n",
        "      #print('f2 =>', f2['items'])\n",
        "\n",
        "      if set(f1['items']) != set(f2['items']):\n",
        "        ik = f1['items'][-1]\n",
        "        ik_dash = f2['items'][-1]\n",
        "        sdc_diff = fn_Sup(L[ik]['count']) -  fn_Sup(L[ik_dash]['count'])\n",
        "\n",
        "        #print('sdc',abs(sdc_diff) <= SDC)\n",
        "        if (ik < ik_dash) and ( abs(sdc_diff) <= SDC ):\n",
        "          c = f1['items']+f2['items'][-1:]\n",
        "          Ck.append({'items':c, 'counts': 0, 'tailcounts': 0})\n",
        "          \n",
        "          \n",
        "          for s in list(itertools.combinations(c, k)):\n",
        "            if set([c[0]]).issubset(s) or ( L[c[0]]['mis'] ==  L[c[1]]['mis'] ) : \n",
        "              is_subset = False\n",
        "              for f in Fk:\n",
        "                if set(s).issubset(f['items']): \n",
        "                  is_subset = True\n",
        "                  break;\n",
        "\n",
        "              if is_subset == False:\n",
        "                Ck.pop()\n",
        "                break\n",
        "\n",
        "  return Ck\n",
        "\n"
      ],
      "execution_count": null,
      "outputs": []
    },
    {
      "cell_type": "code",
      "metadata": {
        "id": "D4f-pe4FHS-j",
        "outputId": "2f1b85dc-f2fd-4e26-861f-f69ef301b82a",
        "colab": {
          "base_uri": "https://localhost:8080/",
          "height": 184
        }
      },
      "source": [
        "k = 2 \n",
        "\n",
        "C = {}\n",
        "\n",
        "# loop K until the end of freq itemset iteration doesnt return empty set \n",
        "while len(F[str(k-1)]) > 0:\n",
        "  if k == 2:\n",
        "    C[2] = level2_candidate_gen(L, SDC)\n",
        "  else:\n",
        "    C[k] = MScandidate_gen(F[str(k-1)], SDC, k-1)\n",
        "    print(C[k])\n",
        "\n",
        "  ck_counts = []\n",
        "  ck_tail_counts = []\n",
        "\n",
        "  for t in transactions:\n",
        "    for c in C[k]:\n",
        "      if set(c['items']).issubset(t):\n",
        "        c['counts'] += 1\n",
        "      if set(c['items'][1:]).issubset(t):\n",
        "        c['tailcounts'] += 1\n",
        "\n",
        "  F[str(k)] = []\n",
        "  for c in C[k]:\n",
        "    if ( c['counts'] / n) >= L[c['items'][0]]['mis']:\n",
        "      F[str(k)].append(c)\n",
        "      \n",
        "  print(k)\n",
        "  k+= 1\n",
        "\n",
        "  \n",
        "\n",
        " "
      ],
      "execution_count": null,
      "outputs": [
        {
          "output_type": "stream",
          "text": [
            "here\n",
            "2\n",
            "[{'items': [30, 40, 50], 'counts': 0, 'tailcounts': 0}, {'items': [30, 40, 50], 'counts': 0, 'tailcounts': 0}, {'items': [4, 9, 10], 'counts': 0, 'tailcounts': 0}, {'items': [4, 9, 10], 'counts': 0, 'tailcounts': 0}, {'items': [1, 6, 8], 'counts': 0, 'tailcounts': 0}, {'items': [1, 6, 8], 'counts': 0, 'tailcounts': 0}, {'items': [1, 6, 8], 'counts': 0, 'tailcounts': 0}, {'items': [2, 6, 8], 'counts': 0, 'tailcounts': 0}, {'items': [2, 6, 8], 'counts': 0, 'tailcounts': 0}, {'items': [2, 6, 8], 'counts': 0, 'tailcounts': 0}, {'items': [1, 2, 8], 'counts': 0, 'tailcounts': 0}, {'items': [1, 2, 6], 'counts': 0, 'tailcounts': 0}, {'items': [1, 2, 6], 'counts': 0, 'tailcounts': 0}, {'items': [1, 2, 8], 'counts': 0, 'tailcounts': 0}, {'items': [1, 2, 8], 'counts': 0, 'tailcounts': 0}]\n",
            "3\n",
            "[{'items': [1, 2, 6, 8], 'counts': 0, 'tailcounts': 0}, {'items': [1, 2, 6, 8], 'counts': 0, 'tailcounts': 0}, {'items': [1, 2, 6, 8], 'counts': 0, 'tailcounts': 0}, {'items': [1, 2, 6, 8], 'counts': 0, 'tailcounts': 0}, {'items': [1, 2, 6, 8], 'counts': 0, 'tailcounts': 0}, {'items': [1, 2, 6, 8], 'counts': 0, 'tailcounts': 0}, {'items': [1, 2, 6, 8], 'counts': 0, 'tailcounts': 0}, {'items': [1, 2, 6, 8], 'counts': 0, 'tailcounts': 0}, {'items': [1, 2, 6, 8], 'counts': 0, 'tailcounts': 0}, {'items': [1, 2, 6, 8], 'counts': 0, 'tailcounts': 0}, {'items': [1, 2, 6, 8], 'counts': 0, 'tailcounts': 0}, {'items': [1, 2, 6, 8], 'counts': 0, 'tailcounts': 0}, {'items': [1, 2, 6, 8], 'counts': 0, 'tailcounts': 0}, {'items': [1, 2, 6, 8], 'counts': 0, 'tailcounts': 0}, {'items': [1, 2, 6, 8], 'counts': 0, 'tailcounts': 0}, {'items': [1, 2, 6, 8], 'counts': 0, 'tailcounts': 0}, {'items': [1, 2, 6, 8], 'counts': 0, 'tailcounts': 0}, {'items': [1, 2, 6, 8], 'counts': 0, 'tailcounts': 0}]\n",
            "4\n",
            "[]\n",
            "5\n"
          ],
          "name": "stdout"
        }
      ]
    },
    {
      "cell_type": "code",
      "metadata": {
        "id": "bl84py1imfxA",
        "outputId": "8205aefe-c2f1-4c16-ff17-10a27047b785",
        "colab": {
          "base_uri": "https://localhost:8080/",
          "height": 1000
        }
      },
      "source": [
        "# HERE we will print this output for u for F\n",
        "result = ''\n",
        "for i in F: \n",
        "  if int(i) == 1:\n",
        "    if len( F[i]['items']) > 0:\n",
        "      lgth = len(F[i]['items'])\n",
        "      result += f'(Length-{i} { lgth } '\n",
        "      result += '\\n\\t('\n",
        "      result += ')\\n\\t('.join(map(str, F[i]['items']))\n",
        "      result += ')\\n'\n",
        "      result += ') \\n' # close length\n",
        "\n",
        "  else:\n",
        "    if len(F[i]) > 0:\n",
        "      result += f'(Length-{i} {len(F[i])}'\n",
        "      result += ''\n",
        "\n",
        "      for pair in F[i]:\n",
        "        result += '\\n\\t('+ ' '.join(map(str, pair['items']))\n",
        "        # for elem in pair['items']: \n",
        "        #   result += f'{elem}'\n",
        "        result += ')'\n",
        "\n",
        "\n",
        "    # for pair in F[i]:\n",
        "    #   print(pair)\n",
        "      \n",
        "    result += ') \\n'\n",
        "print(result)\n",
        "\n"
      ],
      "execution_count": null,
      "outputs": [
        {
          "output_type": "stream",
          "text": [
            "(Length-1 14 \n",
            "\t(10)\n",
            "\t(30)\n",
            "\t(40)\n",
            "\t(50)\n",
            "\t(4)\n",
            "\t(6)\n",
            "\t(8)\n",
            "\t(9)\n",
            "\t(1)\n",
            "\t(2)\n",
            "\t(3)\n",
            "\t(5)\n",
            "\t(20)\n",
            "\t(7)\n",
            ") \n",
            "(Length-2 14\n",
            "\t(4 10)\n",
            "\t(9 10)\n",
            "\t(30 40)\n",
            "\t(30 50)\n",
            "\t(40 50)\n",
            "\t(4 9)\n",
            "\t(6 8)\n",
            "\t(1 6)\n",
            "\t(2 6)\n",
            "\t(1 8)\n",
            "\t(2 8)\n",
            "\t(1 2)\n",
            "\t(3 5)\n",
            "\t(7 20)) \n",
            "(Length-3 15\n",
            "\t(30 40 50)\n",
            "\t(30 40 50)\n",
            "\t(4 9 10)\n",
            "\t(4 9 10)\n",
            "\t(1 6 8)\n",
            "\t(1 6 8)\n",
            "\t(1 6 8)\n",
            "\t(2 6 8)\n",
            "\t(2 6 8)\n",
            "\t(2 6 8)\n",
            "\t(1 2 8)\n",
            "\t(1 2 6)\n",
            "\t(1 2 6)\n",
            "\t(1 2 8)\n",
            "\t(1 2 8)) \n",
            "(Length-4 18\n",
            "\t(1 2 6 8)\n",
            "\t(1 2 6 8)\n",
            "\t(1 2 6 8)\n",
            "\t(1 2 6 8)\n",
            "\t(1 2 6 8)\n",
            "\t(1 2 6 8)\n",
            "\t(1 2 6 8)\n",
            "\t(1 2 6 8)\n",
            "\t(1 2 6 8)\n",
            "\t(1 2 6 8)\n",
            "\t(1 2 6 8)\n",
            "\t(1 2 6 8)\n",
            "\t(1 2 6 8)\n",
            "\t(1 2 6 8)\n",
            "\t(1 2 6 8)\n",
            "\t(1 2 6 8)\n",
            "\t(1 2 6 8)\n",
            "\t(1 2 6 8)) \n",
            ") \n",
            "\n"
          ],
          "name": "stdout"
        }
      ]
    }
  ]
}