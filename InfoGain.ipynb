{
  "nbformat": 4,
  "nbformat_minor": 0,
  "metadata": {
    "colab": {
      "name": "InfoGain.ipynb",
      "provenance": [],
      "collapsed_sections": [],
      "authorship_tag": "ABX9TyO059BOf+Q0/t2UxNDJNwEk",
      "include_colab_link": true
    },
    "kernelspec": {
      "name": "python3",
      "display_name": "Python 3"
    }
  },
  "cells": [
    {
      "cell_type": "markdown",
      "metadata": {
        "id": "view-in-github",
        "colab_type": "text"
      },
      "source": [
        "<a href=\"https://colab.research.google.com/github/benza613/MS-Apriori-Algorithm/blob/master/InfoGain.ipynb\" target=\"_parent\"><img src=\"https://colab.research.google.com/assets/colab-badge.svg\" alt=\"Open In Colab\"/></a>"
      ]
    },
    {
      "cell_type": "code",
      "metadata": {
        "id": "105-CiGqwFxm",
        "outputId": "782dcea8-2943-464c-9074-aa07d011a51b",
        "colab": {
          "base_uri": "https://localhost:8080/",
          "height": 35
        }
      },
      "source": [
        "from google.colab import drive\n",
        "drive.mount('/content/drive')"
      ],
      "execution_count": 1,
      "outputs": [
        {
          "output_type": "stream",
          "text": [
            "Mounted at /content/drive\n"
          ],
          "name": "stdout"
        }
      ]
    },
    {
      "cell_type": "code",
      "metadata": {
        "id": "dQYj5PsHwMOe",
        "outputId": "c22167aa-982e-4e66-a564-969c5947ec83",
        "colab": {
          "base_uri": "https://localhost:8080/",
          "height": 35
        }
      },
      "source": [
        "# set working directory -> you must set the path into which you have uploaded the zipped file\n",
        "# this is required in the case of colab - not in local mode\n",
        "%cd /content/drive/My Drive/DMTM"
      ],
      "execution_count": 2,
      "outputs": [
        {
          "output_type": "stream",
          "text": [
            "/content/drive/My Drive/DMTM\n"
          ],
          "name": "stdout"
        }
      ]
    },
    {
      "cell_type": "code",
      "metadata": {
        "id": "0WAP28S2wSSQ",
        "outputId": "2f5a896e-6423-4fc1-af48-0b6911823db3",
        "colab": {
          "base_uri": "https://localhost:8080/",
          "height": 54
        }
      },
      "source": [
        "# list content of drive\n",
        "%ls"
      ],
      "execution_count": 3,
      "outputs": [
        {
          "output_type": "stream",
          "text": [
            "\u001b[0m\u001b[01;34massignments-1-2-3-testData\u001b[0m/  IG_Sample1.txt  TestParameter.txt\n",
            "CL_EVAL_sample1.txt          IG_Sample2.txt  TestTransaction.txt\n"
          ],
          "name": "stdout"
        }
      ]
    },
    {
      "cell_type": "code",
      "metadata": {
        "id": "yEhKZ01iwmHj",
        "outputId": "fe40adde-15b4-45d8-a6aa-bddfb16f588b",
        "colab": {
          "base_uri": "https://localhost:8080/",
          "height": 384
        }
      },
      "source": [
        "# READ IG Sample File \n",
        "records = []\n",
        "\n",
        "fileData = open('assignments-1-2-3-testData/assign-2-testData/2-data-1.txt', \"r+\", encoding='utf-8-sig').readlines()\n",
        "  \n",
        "# remove all illegal whitespaces, all newline chars, trailing commas that have no input text after it\n",
        "records = [line.replace(\" \", \"\").rstrip(\"\\n\").rstrip(\",\") for line in fileData]\n",
        "\n",
        "records = [list(map(str, line.split(\",\"))) for line in records]\n",
        "\n",
        "records"
      ],
      "execution_count": 46,
      "outputs": [
        {
          "output_type": "execute_result",
          "data": {
            "text/plain": [
              "[['young', 'FALSE', 'FALSE', 'fair', 'x', 'No'],\n",
              " ['young', 'FALSE', 'FALSE', 'good', 'x', 'Mix'],\n",
              " ['young', 'TRUE', 'SURE', 'good', 'x', 'Yes'],\n",
              " ['young', 'TRUE', 'TRUE', 'fair', 'y', 'Yes'],\n",
              " ['young', 'Maybe', 'FALSE', 'fair', 'x', 'No'],\n",
              " ['middle', 'FALSE', 'FALSE', 'fair', 'x', 'Mix'],\n",
              " ['middle', 'FALSE', 'FALSE', 'good', 'y', 'No'],\n",
              " ['middle', 'TRUE', 'TRUE', 'good', 'z', 'Yes'],\n",
              " ['middle', 'FALSE', 'SURE', 'excellent', 'y', 'Yes'],\n",
              " ['middle', 'FALSE', 'TRUE', 'excellent', 'y', 'Mix'],\n",
              " ['old', 'Maybe', 'TRUE', 'excellent', 'y', 'Yes'],\n",
              " ['old', 'FALSE', 'TRUE', 'good', 'x', 'Mix'],\n",
              " ['old', 'TRUE', 'FALSE', 'good', 'z', 'Yes'],\n",
              " ['old', 'TRUE', 'FALSE', 'excellent', 'x', 'Mix'],\n",
              " ['old', 'Maybe', 'FALSE', 'fair', 'y', 'No'],\n",
              " ['teenager', 'TRUE', 'TRUE', 'good', 'x', 'Mix'],\n",
              " ['teenager', 'FALSE', 'SURE', 'good', 'y', 'No'],\n",
              " ['teenager', 'TRUE', 'TRUE', 'excellent', 'z', 'Yes'],\n",
              " ['teenager', 'Maybe', 'TRUE', 'excellent', 'x', 'Mix'],\n",
              " ['teenager', 'TRUE', 'FALSE', 'excellent', 'z', 'Yes']]"
            ]
          },
          "metadata": {
            "tags": []
          },
          "execution_count": 46
        }
      ]
    },
    {
      "cell_type": "code",
      "metadata": {
        "id": "awns2G-kxf3n",
        "outputId": "e042cb97-55d3-448b-b6f3-4a7282402f2c",
        "colab": {
          "base_uri": "https://localhost:8080/",
          "height": 35
        }
      },
      "source": [
        "# get all classes distinct ==? \n",
        "# TODO: do we need to upper/lower case them ?\n",
        "classes = list(set([line[-1] for line in records]))\n",
        "classes"
      ],
      "execution_count": 47,
      "outputs": [
        {
          "output_type": "execute_result",
          "data": {
            "text/plain": [
              "['No', 'Mix', 'Yes']"
            ]
          },
          "metadata": {
            "tags": []
          },
          "execution_count": 47
        }
      ]
    },
    {
      "cell_type": "code",
      "metadata": {
        "id": "TeZb7zHGxyrR",
        "outputId": "37b5feb8-0d77-414e-99e4-6492fba1d816",
        "colab": {
          "base_uri": "https://localhost:8080/",
          "height": 72
        }
      },
      "source": [
        "import math\n",
        "\n",
        "def CALC_ENTR(D):\n",
        "  # Calculate entropy wrt classes \n",
        "  var_E_Y = float()\n",
        "\n",
        "  # loop thru classes\n",
        "  for idx, c in enumerate(classes):\n",
        "    n_rows_class = 0\n",
        "\n",
        "    for r in D:\n",
        "      # number of rows having this class\n",
        "      if r[-1] == c :\n",
        "        n_rows_class += 1  \n",
        "\n",
        "    # calc class entropy here \n",
        "    pr_c = n_rows_class / len(D)\n",
        "    var_E_Y += ( -pr_c) * math.log(pr_c,2)\n",
        "\n",
        "    print(c, n_rows_class) \n",
        "  return var_E_Y\n",
        "  \n",
        "E_Y = CALC_ENTR(records)"
      ],
      "execution_count": 48,
      "outputs": [
        {
          "output_type": "stream",
          "text": [
            "No 5\n",
            "Mix 7\n",
            "Yes 8\n"
          ],
          "name": "stdout"
        }
      ]
    },
    {
      "cell_type": "code",
      "metadata": {
        "id": "yFlb7oRg7wTM"
      },
      "source": [
        "import math\n",
        "\n",
        "def fn_attr_entropy(D_i):\n",
        "  # Calculate entropy wrt classes \n",
        "  E_x = float()\n",
        "\n",
        "  # loop thru classes\n",
        "  for idx, c in enumerate(classes):\n",
        "    n_rows_class = 0\n",
        "\n",
        "    for r in D_i:\n",
        "      # number of rows having this class\n",
        "      if r[-1] == c :\n",
        "        n_rows_class += 1  \n",
        "\n",
        "    if n_rows_class == 0:\n",
        "      continue\n",
        "\n",
        "    # calc class entropy here \n",
        "    pr_c = n_rows_class / len(D_i)\n",
        "    E_x += ( -pr_c) *  math.log((pr_c),2)\n",
        "\n",
        "    #print(c, n_rows_class) \n",
        "  return E_x\n"
      ],
      "execution_count": 49,
      "outputs": []
    },
    {
      "cell_type": "code",
      "metadata": {
        "id": "lxRrocXqy7xO"
      },
      "source": [
        "def IG_ATTR_LOOPER(IDX, precision_req):\n",
        "  # Calculate a dict of attribute value counts for records[i][IDX]\n",
        "  attr_vals = {}\n",
        "\n",
        "  for r in records:\n",
        "    if r[IDX] in attr_vals.keys():\n",
        "      attr_vals[r[IDX]] += 1\n",
        "    else:\n",
        "      attr_vals[r[IDX]] = 1\n",
        "\n",
        "  # partial entropies \n",
        "  E_vi = float()\n",
        "\n",
        "  #print(attr_vals)\n",
        "\n",
        "  for val in attr_vals.keys():\n",
        "    D_i = [r for r in records if r[IDX] == val]\n",
        "    pr_c = attr_vals[val] / len(records)\n",
        "\n",
        "    # calculate sum of partial entropies here \n",
        "    E_vi += pr_c * fn_attr_entropy(D_i)\n",
        "\n",
        "\n",
        "  print('\\nENTR for '+str(IDX)+' : ', format(E_vi, precision_req))\n",
        "  #print('GAIN for '+str(IDX)+' : ', format(E_Y - E_vi, precision_req))\n",
        "  return '(IG '+ format(E_Y - E_vi, precision_req) + ')'\n",
        "\n"
      ],
      "execution_count": 50,
      "outputs": []
    },
    {
      "cell_type": "code",
      "metadata": {
        "id": "eCAG6uE_Ayfc",
        "outputId": "85be73e7-2422-4004-b135-d32123343a97",
        "colab": {
          "base_uri": "https://localhost:8080/",
          "height": 311
        }
      },
      "source": [
        "# SPECIFY ATTRIBUTE COLUMN YOU WANT HERE \n",
        "precision_req =  '.3f'\n",
        "\n",
        "print('TOTAL ENTR : ', E_Y)\n",
        "for IDX in range(len(records[0])-1):\n",
        "   print(IG_ATTR_LOOPER(IDX, precision_req))"
      ],
      "execution_count": 54,
      "outputs": [
        {
          "output_type": "stream",
          "text": [
            "TOTAL ENTR :  1.5588718484453605\n",
            "\n",
            "ENTR for 0 :  1.522\n",
            "(IG 0.037)\n",
            "\n",
            "ENTR for 1 :  1.187\n",
            "(IG 0.372)\n",
            "\n",
            "ENTR for 2 :  1.226\n",
            "(IG 0.332)\n",
            "\n",
            "ENTR for 3 :  1.312\n",
            "(IG 0.247)\n",
            "\n",
            "ENTR for 4 :  1.058\n",
            "(IG 0.501)\n"
          ],
          "name": "stdout"
        }
      ]
    },
    {
      "cell_type": "code",
      "metadata": {
        "id": "QO8qfBh5kVO_",
        "outputId": "46c12b62-c262-474f-d5d3-684368675588",
        "colab": {
          "base_uri": "https://localhost:8080/",
          "height": 109
        }
      },
      "source": [
        "STUDENT_ID = 'STUDENT_ID'\n",
        "\n",
        "result =  '(' + STUDENT_ID + '\\n' \n",
        "result += IG_ATTR_LOOPER(0, precision_req)\n",
        "result += '\\n)'\n",
        "print(result)\n",
        "\n",
        "f = open('assignments-results/assign2/'+STUDENT_ID+'_2.txt', \"w\")\n",
        "f.write(result)\n",
        "f.close()"
      ],
      "execution_count": 56,
      "outputs": [
        {
          "output_type": "stream",
          "text": [
            "\n",
            "ENTR for 0 :  1.522\n",
            "(STUDENT_ID\n",
            "(IG 0.037)\n",
            ")\n"
          ],
          "name": "stdout"
        }
      ]
    }
  ]
}