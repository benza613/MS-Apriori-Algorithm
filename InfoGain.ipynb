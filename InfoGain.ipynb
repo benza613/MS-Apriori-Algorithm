{
  "nbformat": 4,
  "nbformat_minor": 0,
  "metadata": {
    "colab": {
      "name": "InfoGain.ipynb",
      "provenance": [],
      "collapsed_sections": []
    },
    "kernelspec": {
      "name": "python3",
      "display_name": "Python 3"
    }
  },
  "cells": [
    {
      "cell_type": "code",
      "metadata": {
        "id": "105-CiGqwFxm",
        "outputId": "805d2687-dc57-4d1c-e774-dcb6c8f2b9fb",
        "colab": {
          "base_uri": "https://localhost:8080/",
          "height": 35
        }
      },
      "source": [
        "from google.colab import drive\n",
        "drive.mount('/content/drive')"
      ],
      "execution_count": 1,
      "outputs": [
        {
          "output_type": "stream",
          "text": [
            "Mounted at /content/drive\n"
          ],
          "name": "stdout"
        }
      ]
    },
    {
      "cell_type": "code",
      "metadata": {
        "id": "dQYj5PsHwMOe",
        "outputId": "f41820c0-87b3-4b5a-adc4-a08440fc35bd",
        "colab": {
          "base_uri": "https://localhost:8080/",
          "height": 35
        }
      },
      "source": [
        "# set working directory -> you must set the path into which you have uploaded the zipped file\n",
        "# this is required in the case of colab - not in local mode\n",
        "%cd /content/drive/My Drive/DMTM"
      ],
      "execution_count": 2,
      "outputs": [
        {
          "output_type": "stream",
          "text": [
            "/content/drive/My Drive/DMTM\n"
          ],
          "name": "stdout"
        }
      ]
    },
    {
      "cell_type": "code",
      "metadata": {
        "id": "0WAP28S2wSSQ",
        "outputId": "a0fc847a-7e4d-4f54-9539-60b3fcba827f",
        "colab": {
          "base_uri": "https://localhost:8080/",
          "height": 35
        }
      },
      "source": [
        "# list content of drive\n",
        "%ls"
      ],
      "execution_count": 84,
      "outputs": [
        {
          "output_type": "stream",
          "text": [
            "IG_Sample1.txt  IG_Sample2.txt  TestParameter.txt  TestTransaction.txt\n"
          ],
          "name": "stdout"
        }
      ]
    },
    {
      "cell_type": "code",
      "metadata": {
        "id": "yEhKZ01iwmHj",
        "outputId": "c9dedc83-6a66-4eaa-fba0-aaaa136b34c3",
        "colab": {
          "base_uri": "https://localhost:8080/",
          "height": 293
        }
      },
      "source": [
        "# READ IG Sample File \n",
        "records = []\n",
        "\n",
        "fileData = open('IG_Sample2.txt', \"r+\").readlines()\n",
        "  \n",
        "# remove all illegal whitespaces, all newline chars, trailing commas that have no input text after it\n",
        "records = [line.replace(\" \", \"\").rstrip(\"\\n\").rstrip(\",\") for line in fileData]\n",
        "\n",
        "records = [list(map(str, line.split(\",\"))) for line in records]\n",
        "\n",
        "records"
      ],
      "execution_count": 99,
      "outputs": [
        {
          "output_type": "execute_result",
          "data": {
            "text/plain": [
              "[['young', 'false', 'false', 'fair', 'No'],\n",
              " ['young', 'false', 'false', 'good', 'No'],\n",
              " ['young', 'true', 'false', 'good', 'Yes'],\n",
              " ['young', 'true', 'true', 'fair', 'Yes'],\n",
              " ['young', 'false', 'false', 'fair', 'No'],\n",
              " ['middle', 'false', 'false', 'fair', 'No'],\n",
              " ['middle', 'false', 'false', 'good', 'No'],\n",
              " ['middle', 'true', 'true', 'good', 'Yes'],\n",
              " ['middle', 'false', 'true', 'excellent', 'Yes'],\n",
              " ['middle', 'false', 'true', 'excellent', 'Yes'],\n",
              " ['old', 'false', 'true', 'excellent', 'Yes'],\n",
              " ['old', 'false', 'true', 'good', 'Yes'],\n",
              " ['old', 'true', 'false', 'good', 'Yes'],\n",
              " ['old', 'true', 'false', 'excellent', 'Yes'],\n",
              " ['old', 'false', 'false', 'fair', 'No']]"
            ]
          },
          "metadata": {
            "tags": []
          },
          "execution_count": 99
        }
      ]
    },
    {
      "cell_type": "code",
      "metadata": {
        "id": "awns2G-kxf3n",
        "outputId": "ad64bd2c-f613-4fb0-e109-a1762e96f5cb",
        "colab": {
          "base_uri": "https://localhost:8080/",
          "height": 35
        }
      },
      "source": [
        "# get all classes distinct ==? \n",
        "# TODO: do we need to upper/lower case them ?\n",
        "classes = list(set([line[-1] for line in records]))\n",
        "classes"
      ],
      "execution_count": 100,
      "outputs": [
        {
          "output_type": "execute_result",
          "data": {
            "text/plain": [
              "['Yes', 'No']"
            ]
          },
          "metadata": {
            "tags": []
          },
          "execution_count": 100
        }
      ]
    },
    {
      "cell_type": "code",
      "metadata": {
        "id": "TeZb7zHGxyrR",
        "outputId": "4804962e-061b-4619-a5bd-8b39ef49542d",
        "colab": {
          "base_uri": "https://localhost:8080/",
          "height": 72
        }
      },
      "source": [
        "import math\n",
        "\n",
        "# Calculate entropy wrt classes \n",
        "E_Y = float()\n",
        "\n",
        "# loop thru classes\n",
        "for idx, c in enumerate(classes):\n",
        "  n_rows_class = 0\n",
        "\n",
        "  for r in records:\n",
        "    # number of rows having this class\n",
        "    if r[-1] == c :\n",
        "      n_rows_class += 1  \n",
        "\n",
        "  # calc class entropy here \n",
        "  pr_c = n_rows_class / len(records)\n",
        "  E_Y += ( -pr_c) * math.log((pr_c),2)\n",
        "\n",
        "  print(c, n_rows_class) \n",
        "E_Y\n",
        "  \n"
      ],
      "execution_count": 101,
      "outputs": [
        {
          "output_type": "stream",
          "text": [
            "Yes 9\n",
            "No 6\n"
          ],
          "name": "stdout"
        },
        {
          "output_type": "execute_result",
          "data": {
            "text/plain": [
              "0.9709505944546686"
            ]
          },
          "metadata": {
            "tags": []
          },
          "execution_count": 101
        }
      ]
    },
    {
      "cell_type": "code",
      "metadata": {
        "id": "yFlb7oRg7wTM"
      },
      "source": [
        "import math\n",
        "\n",
        "def fn_attr_entropy(D_i):\n",
        "  # Calculate entropy wrt classes \n",
        "  E_x = float()\n",
        "\n",
        "  # loop thru classes\n",
        "  for idx, c in enumerate(classes):\n",
        "    n_rows_class = 0\n",
        "\n",
        "    for r in D_i:\n",
        "      # number of rows having this class\n",
        "      if r[-1] == c :\n",
        "        n_rows_class += 1  \n",
        "\n",
        "    if n_rows_class == 0:\n",
        "      continue\n",
        "\n",
        "    # calc class entropy here \n",
        "    pr_c = n_rows_class / len(D_i)\n",
        "    E_x += ( -pr_c) *  math.log((pr_c),2)\n",
        "\n",
        "    #print(c, n_rows_class) \n",
        "  return E_x\n"
      ],
      "execution_count": 102,
      "outputs": []
    },
    {
      "cell_type": "code",
      "metadata": {
        "id": "lxRrocXqy7xO"
      },
      "source": [
        "def IG_ATTR_LOOPER(IDX, precision_req):\n",
        "  # Calculate a dict of attribute value counts for records[i][IDX]\n",
        "  attr_vals = {}\n",
        "\n",
        "  for r in records:\n",
        "    if r[IDX] in attr_vals.keys():\n",
        "      attr_vals[r[IDX]] += 1\n",
        "    else:\n",
        "      attr_vals[r[IDX]] = 1\n",
        "\n",
        "  # partial entropies \n",
        "  E_vi = float()\n",
        "\n",
        "  #print(attr_vals)\n",
        "\n",
        "  for val in attr_vals.keys():\n",
        "    D_i = [r for r in records if r[IDX] == val]\n",
        "    pr_c = attr_vals[val] / len(records)\n",
        "\n",
        "    # calculate sum of partial entropies here \n",
        "    E_vi += pr_c * fn_attr_entropy(D_i)\n",
        "\n",
        "\n",
        "  print('\\nENTR for '+str(IDX)+' : ', format(E_vi, precision_req))\n",
        "  #print('GAIN for '+str(IDX)+' : ', format(E_Y - E_vi, precision_req))\n",
        "  return '(IG '+ format(E_Y - E_vi, precision_req) + ')'\n",
        "\n"
      ],
      "execution_count": 103,
      "outputs": []
    },
    {
      "cell_type": "code",
      "metadata": {
        "id": "eCAG6uE_Ayfc",
        "outputId": "19f388b5-7890-49d6-dfff-74f332d07060",
        "colab": {
          "base_uri": "https://localhost:8080/",
          "height": 256
        }
      },
      "source": [
        "# SPECIFY ATTRIBUTE COLUMN YOU WANT HERE \n",
        "precision_req =  '.3f'\n",
        "\n",
        "print('TOTAL ENTR : ', E_Y)\n",
        "for IDX in range(len(records[0])-1):\n",
        "   print(IG_ATTR_LOOPER(IDX, precision_req))"
      ],
      "execution_count": 104,
      "outputs": [
        {
          "output_type": "stream",
          "text": [
            "TOTAL ENTR :  0.9709505944546686\n",
            "\n",
            "ENTR for 0 :  0.888\n",
            "(IG 0.083)\n",
            "\n",
            "ENTR for 1 :  0.647\n",
            "(IG 0.324)\n",
            "\n",
            "ENTR for 2 :  0.551\n",
            "(IG 0.420)\n",
            "\n",
            "ENTR for 3 :  0.608\n",
            "(IG 0.363)\n"
          ],
          "name": "stdout"
        }
      ]
    }
  ]
}